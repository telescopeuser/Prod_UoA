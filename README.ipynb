{
 "cells": [
  {
   "cell_type": "markdown",
   "metadata": {},
   "source": [
    "# < Practical Data Science >\n",
    "\n",
    "<img align=\"right\" src='http://www.kudosdata.com/wp-content/uploads/2016/11/cropped-KudosLogo1.png' width=30%>\n",
    "\n",
    "<img align=\"right\" src='WeChat_SamGu.png' width=10%>\n",
    "\n",
    "by: **Sam Gu**\n",
    "\n",
    "Sam.Gu@KudosData.com\n",
    "\n",
    "http://www.KudosData.com\n",
    "\n",
    "\n",
    "August 2017"
   ]
  },
  {
   "cell_type": "markdown",
   "metadata": {},
   "source": [
    "# Agenda\n",
    "\n",
    "* Why Data Scientists Are Highly Paid ?\n",
    "* Data Science vs. Machine Learning\n",
    "* Ethical Challenges in Data Science & Prediction\n",
    "* Predictive Image Analysis Using Deep Transfer Learning\n"
   ]
  },
  {
   "cell_type": "markdown",
   "metadata": {},
   "source": [
    "### Hands-on Workshop for Predictive Image Analysis Using Deep Transfer Learning"
   ]
  },
  {
   "cell_type": "markdown",
   "metadata": {},
   "source": [
    "https://github.com/telescopeuser/GCP-SamGu\n",
    "\n",
    "**Video lecture:** \n",
    "\n",
    "https://youtu.be/Bh443uea-U4\n",
    "\n",
    "**Lab python notebook:** \n",
    "\n",
    "Lab\\Lab_Image_Analysis.ipynb\n"
   ]
  },
  {
   "cell_type": "markdown",
   "metadata": {},
   "source": [
    "### Google Deep Neural Network: Inception-v3:\n",
    "\n",
    "<img align=\"left\" src='https://4.bp.blogspot.com/-TMOLlkJBxms/Vt3HQXpE2cI/AAAAAAAAA8E/7X7XRFOY6Xo/s1600/image03.png' width=100%>"
   ]
  }
 ],
 "metadata": {
  "kernelspec": {
   "display_name": "Python 3",
   "language": "python",
   "name": "python3"
  },
  "language_info": {
   "codemirror_mode": {
    "name": "ipython",
    "version": 3
   },
   "file_extension": ".py",
   "mimetype": "text/x-python",
   "name": "python",
   "nbconvert_exporter": "python",
   "pygments_lexer": "ipython3",
   "version": "3.5.3"
  }
 },
 "nbformat": 4,
 "nbformat_minor": 0
}
